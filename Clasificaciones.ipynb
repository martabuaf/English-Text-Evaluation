{
 "cells": [
  {
   "cell_type": "code",
   "execution_count": 161,
   "id": "86a16fc4",
   "metadata": {},
   "outputs": [],
   "source": [
    "import numpy as np\n",
    "import pandas as pd\n",
    "\n",
    "from sklearn.model_selection import train_test_split\n",
    "from sklearn.preprocessing import MinMaxScaler\n",
    "x_scaler= MinMaxScaler()\n",
    "\n",
    "\n",
    "from sklearn.metrics import jaccard_score\n",
    "from sklearn.metrics import accuracy_score\n",
    "from sklearn.metrics import precision_score\n",
    "from sklearn.metrics import recall_score\n",
    "from sklearn.metrics import f1_score\n",
    "from sklearn.metrics import roc_auc_score\n",
    "\n",
    "from sklearn.metrics import confusion_matrix\n",
    "from sklearn.metrics import classification_report\n"
   ]
  },
  {
   "cell_type": "code",
   "execution_count": 149,
   "id": "38dc1d15",
   "metadata": {},
   "outputs": [
    {
     "data": {
      "text/html": [
       "<div>\n",
       "<style scoped>\n",
       "    .dataframe tbody tr th:only-of-type {\n",
       "        vertical-align: middle;\n",
       "    }\n",
       "\n",
       "    .dataframe tbody tr th {\n",
       "        vertical-align: top;\n",
       "    }\n",
       "\n",
       "    .dataframe thead th {\n",
       "        text-align: right;\n",
       "    }\n",
       "</style>\n",
       "<table border=\"1\" class=\"dataframe\">\n",
       "  <thead>\n",
       "    <tr style=\"text-align: right;\">\n",
       "      <th></th>\n",
       "      <th>text_id</th>\n",
       "      <th>full_text</th>\n",
       "      <th>cohesion</th>\n",
       "      <th>syntax</th>\n",
       "      <th>vocabulary</th>\n",
       "      <th>phraseology</th>\n",
       "      <th>grammar</th>\n",
       "      <th>conventions</th>\n",
       "      <th>spelling_mistakes</th>\n",
       "      <th>contractions</th>\n",
       "      <th>correct_text</th>\n",
       "      <th>words_per_sent</th>\n",
       "      <th>richness</th>\n",
       "      <th>informative</th>\n",
       "      <th>unique_verbs</th>\n",
       "      <th>unique_adjectives</th>\n",
       "      <th>unique_adverbs</th>\n",
       "      <th>polarity</th>\n",
       "      <th>subjectivity</th>\n",
       "    </tr>\n",
       "  </thead>\n",
       "  <tbody>\n",
       "    <tr>\n",
       "      <th>0</th>\n",
       "      <td>0016926B079C</td>\n",
       "      <td>I think that students would benefit from learn...</td>\n",
       "      <td>3.5</td>\n",
       "      <td>3.5</td>\n",
       "      <td>3.0</td>\n",
       "      <td>3.0</td>\n",
       "      <td>4.0</td>\n",
       "      <td>3.0</td>\n",
       "      <td>27</td>\n",
       "      <td>7</td>\n",
       "      <td>I think that students would benefit from learn...</td>\n",
       "      <td>16.055556</td>\n",
       "      <td>0.467128</td>\n",
       "      <td>0.408304</td>\n",
       "      <td>37</td>\n",
       "      <td>12</td>\n",
       "      <td>9</td>\n",
       "      <td>0.103571</td>\n",
       "      <td>0.551190</td>\n",
       "    </tr>\n",
       "    <tr>\n",
       "      <th>1</th>\n",
       "      <td>0022683E9EA5</td>\n",
       "      <td>When a problem is a change you have to let it ...</td>\n",
       "      <td>2.5</td>\n",
       "      <td>2.5</td>\n",
       "      <td>3.0</td>\n",
       "      <td>2.0</td>\n",
       "      <td>2.0</td>\n",
       "      <td>2.5</td>\n",
       "      <td>46</td>\n",
       "      <td>6</td>\n",
       "      <td>When a problem is a change you have to let it ...</td>\n",
       "      <td>40.071429</td>\n",
       "      <td>0.258467</td>\n",
       "      <td>0.376114</td>\n",
       "      <td>28</td>\n",
       "      <td>13</td>\n",
       "      <td>11</td>\n",
       "      <td>0.092639</td>\n",
       "      <td>0.526343</td>\n",
       "    </tr>\n",
       "    <tr>\n",
       "      <th>2</th>\n",
       "      <td>00299B378633</td>\n",
       "      <td>Dear, Principal\\n\\nIf u change the school poli...</td>\n",
       "      <td>3.0</td>\n",
       "      <td>3.5</td>\n",
       "      <td>3.0</td>\n",
       "      <td>3.0</td>\n",
       "      <td>3.0</td>\n",
       "      <td>2.5</td>\n",
       "      <td>10</td>\n",
       "      <td>15</td>\n",
       "      <td>Dear, Principal If you change the school polic...</td>\n",
       "      <td>19.052632</td>\n",
       "      <td>0.331492</td>\n",
       "      <td>0.348066</td>\n",
       "      <td>21</td>\n",
       "      <td>10</td>\n",
       "      <td>6</td>\n",
       "      <td>0.037857</td>\n",
       "      <td>0.516468</td>\n",
       "    </tr>\n",
       "    <tr>\n",
       "      <th>3</th>\n",
       "      <td>003885A45F42</td>\n",
       "      <td>The best time in life is when you become yours...</td>\n",
       "      <td>4.5</td>\n",
       "      <td>4.5</td>\n",
       "      <td>4.5</td>\n",
       "      <td>4.5</td>\n",
       "      <td>4.0</td>\n",
       "      <td>5.0</td>\n",
       "      <td>12</td>\n",
       "      <td>29</td>\n",
       "      <td>The best time in life is when you become yours...</td>\n",
       "      <td>23.277778</td>\n",
       "      <td>0.261337</td>\n",
       "      <td>0.336516</td>\n",
       "      <td>54</td>\n",
       "      <td>28</td>\n",
       "      <td>17</td>\n",
       "      <td>0.213730</td>\n",
       "      <td>0.604619</td>\n",
       "    </tr>\n",
       "    <tr>\n",
       "      <th>4</th>\n",
       "      <td>0049B1DF5CCC</td>\n",
       "      <td>Small act of kindness can impact in other peop...</td>\n",
       "      <td>2.5</td>\n",
       "      <td>3.0</td>\n",
       "      <td>3.0</td>\n",
       "      <td>3.0</td>\n",
       "      <td>2.5</td>\n",
       "      <td>2.5</td>\n",
       "      <td>20</td>\n",
       "      <td>1</td>\n",
       "      <td>Small act of kindness can impact in other peop...</td>\n",
       "      <td>80.000000</td>\n",
       "      <td>0.433333</td>\n",
       "      <td>0.458333</td>\n",
       "      <td>24</td>\n",
       "      <td>9</td>\n",
       "      <td>3</td>\n",
       "      <td>0.240202</td>\n",
       "      <td>0.542525</td>\n",
       "    </tr>\n",
       "    <tr>\n",
       "      <th>...</th>\n",
       "      <td>...</td>\n",
       "      <td>...</td>\n",
       "      <td>...</td>\n",
       "      <td>...</td>\n",
       "      <td>...</td>\n",
       "      <td>...</td>\n",
       "      <td>...</td>\n",
       "      <td>...</td>\n",
       "      <td>...</td>\n",
       "      <td>...</td>\n",
       "      <td>...</td>\n",
       "      <td>...</td>\n",
       "      <td>...</td>\n",
       "      <td>...</td>\n",
       "      <td>...</td>\n",
       "      <td>...</td>\n",
       "      <td>...</td>\n",
       "      <td>...</td>\n",
       "      <td>...</td>\n",
       "    </tr>\n",
       "    <tr>\n",
       "      <th>3125</th>\n",
       "      <td>DCDED7261D03</td>\n",
       "      <td>\"Your character will be what yourself choose t...</td>\n",
       "      <td>4.0</td>\n",
       "      <td>3.5</td>\n",
       "      <td>3.5</td>\n",
       "      <td>3.5</td>\n",
       "      <td>3.5</td>\n",
       "      <td>4.0</td>\n",
       "      <td>8</td>\n",
       "      <td>5</td>\n",
       "      <td>Your character will be what yourself choose t...</td>\n",
       "      <td>33.428571</td>\n",
       "      <td>0.354701</td>\n",
       "      <td>0.410256</td>\n",
       "      <td>32</td>\n",
       "      <td>17</td>\n",
       "      <td>13</td>\n",
       "      <td>0.199167</td>\n",
       "      <td>0.541206</td>\n",
       "    </tr>\n",
       "    <tr>\n",
       "      <th>3126</th>\n",
       "      <td>DCE760033193</td>\n",
       "      <td>The school board plans to the school for more ...</td>\n",
       "      <td>2.5</td>\n",
       "      <td>2.0</td>\n",
       "      <td>3.0</td>\n",
       "      <td>2.0</td>\n",
       "      <td>2.0</td>\n",
       "      <td>3.0</td>\n",
       "      <td>15</td>\n",
       "      <td>3</td>\n",
       "      <td>The school board plans to the school for bette...</td>\n",
       "      <td>39.000000</td>\n",
       "      <td>0.384615</td>\n",
       "      <td>0.418803</td>\n",
       "      <td>14</td>\n",
       "      <td>14</td>\n",
       "      <td>5</td>\n",
       "      <td>0.342917</td>\n",
       "      <td>0.601250</td>\n",
       "    </tr>\n",
       "    <tr>\n",
       "      <th>3127</th>\n",
       "      <td>DCE82F61BE10</td>\n",
       "      <td>Is good idea for students to recive online cou...</td>\n",
       "      <td>3.0</td>\n",
       "      <td>3.5</td>\n",
       "      <td>3.5</td>\n",
       "      <td>3.5</td>\n",
       "      <td>3.0</td>\n",
       "      <td>3.0</td>\n",
       "      <td>32</td>\n",
       "      <td>6</td>\n",
       "      <td>Is good idea for students to receive online co...</td>\n",
       "      <td>16.821429</td>\n",
       "      <td>0.358811</td>\n",
       "      <td>0.409766</td>\n",
       "      <td>31</td>\n",
       "      <td>15</td>\n",
       "      <td>7</td>\n",
       "      <td>0.279898</td>\n",
       "      <td>0.553526</td>\n",
       "    </tr>\n",
       "    <tr>\n",
       "      <th>3128</th>\n",
       "      <td>DCED139D2C03</td>\n",
       "      <td>\"How Small Acts of Kindness can have an Impact...</td>\n",
       "      <td>3.0</td>\n",
       "      <td>3.0</td>\n",
       "      <td>3.0</td>\n",
       "      <td>3.0</td>\n",
       "      <td>3.0</td>\n",
       "      <td>3.0</td>\n",
       "      <td>20</td>\n",
       "      <td>5</td>\n",
       "      <td>How Small Acts of Kindness can have an Impact...</td>\n",
       "      <td>22.083333</td>\n",
       "      <td>0.303774</td>\n",
       "      <td>0.422642</td>\n",
       "      <td>22</td>\n",
       "      <td>25</td>\n",
       "      <td>12</td>\n",
       "      <td>0.184299</td>\n",
       "      <td>0.502429</td>\n",
       "    </tr>\n",
       "    <tr>\n",
       "      <th>3129</th>\n",
       "      <td>DCED9DA8896F</td>\n",
       "      <td>Technology allows people to speak to others, P...</td>\n",
       "      <td>3.0</td>\n",
       "      <td>2.5</td>\n",
       "      <td>3.0</td>\n",
       "      <td>2.5</td>\n",
       "      <td>2.5</td>\n",
       "      <td>2.5</td>\n",
       "      <td>24</td>\n",
       "      <td>3</td>\n",
       "      <td>Technology allows people to speak to others, P...</td>\n",
       "      <td>73.000000</td>\n",
       "      <td>0.515982</td>\n",
       "      <td>0.529680</td>\n",
       "      <td>22</td>\n",
       "      <td>15</td>\n",
       "      <td>3</td>\n",
       "      <td>0.135557</td>\n",
       "      <td>0.504692</td>\n",
       "    </tr>\n",
       "  </tbody>\n",
       "</table>\n",
       "<p>3130 rows × 19 columns</p>\n",
       "</div>"
      ],
      "text/plain": [
       "           text_id                                          full_text  \\\n",
       "0     0016926B079C  I think that students would benefit from learn...   \n",
       "1     0022683E9EA5  When a problem is a change you have to let it ...   \n",
       "2     00299B378633  Dear, Principal\\n\\nIf u change the school poli...   \n",
       "3     003885A45F42  The best time in life is when you become yours...   \n",
       "4     0049B1DF5CCC  Small act of kindness can impact in other peop...   \n",
       "...            ...                                                ...   \n",
       "3125  DCDED7261D03  \"Your character will be what yourself choose t...   \n",
       "3126  DCE760033193  The school board plans to the school for more ...   \n",
       "3127  DCE82F61BE10  Is good idea for students to recive online cou...   \n",
       "3128  DCED139D2C03  \"How Small Acts of Kindness can have an Impact...   \n",
       "3129  DCED9DA8896F  Technology allows people to speak to others, P...   \n",
       "\n",
       "      cohesion  syntax  vocabulary  phraseology  grammar  conventions  \\\n",
       "0          3.5     3.5         3.0          3.0      4.0          3.0   \n",
       "1          2.5     2.5         3.0          2.0      2.0          2.5   \n",
       "2          3.0     3.5         3.0          3.0      3.0          2.5   \n",
       "3          4.5     4.5         4.5          4.5      4.0          5.0   \n",
       "4          2.5     3.0         3.0          3.0      2.5          2.5   \n",
       "...        ...     ...         ...          ...      ...          ...   \n",
       "3125       4.0     3.5         3.5          3.5      3.5          4.0   \n",
       "3126       2.5     2.0         3.0          2.0      2.0          3.0   \n",
       "3127       3.0     3.5         3.5          3.5      3.0          3.0   \n",
       "3128       3.0     3.0         3.0          3.0      3.0          3.0   \n",
       "3129       3.0     2.5         3.0          2.5      2.5          2.5   \n",
       "\n",
       "      spelling_mistakes  contractions  \\\n",
       "0                    27             7   \n",
       "1                    46             6   \n",
       "2                    10            15   \n",
       "3                    12            29   \n",
       "4                    20             1   \n",
       "...                 ...           ...   \n",
       "3125                  8             5   \n",
       "3126                 15             3   \n",
       "3127                 32             6   \n",
       "3128                 20             5   \n",
       "3129                 24             3   \n",
       "\n",
       "                                           correct_text  words_per_sent  \\\n",
       "0     I think that students would benefit from learn...       16.055556   \n",
       "1     When a problem is a change you have to let it ...       40.071429   \n",
       "2     Dear, Principal If you change the school polic...       19.052632   \n",
       "3     The best time in life is when you become yours...       23.277778   \n",
       "4     Small act of kindness can impact in other peop...       80.000000   \n",
       "...                                                 ...             ...   \n",
       "3125   Your character will be what yourself choose t...       33.428571   \n",
       "3126  The school board plans to the school for bette...       39.000000   \n",
       "3127  Is good idea for students to receive online co...       16.821429   \n",
       "3128   How Small Acts of Kindness can have an Impact...       22.083333   \n",
       "3129  Technology allows people to speak to others, P...       73.000000   \n",
       "\n",
       "      richness  informative  unique_verbs  unique_adjectives  unique_adverbs  \\\n",
       "0     0.467128     0.408304            37                 12               9   \n",
       "1     0.258467     0.376114            28                 13              11   \n",
       "2     0.331492     0.348066            21                 10               6   \n",
       "3     0.261337     0.336516            54                 28              17   \n",
       "4     0.433333     0.458333            24                  9               3   \n",
       "...        ...          ...           ...                ...             ...   \n",
       "3125  0.354701     0.410256            32                 17              13   \n",
       "3126  0.384615     0.418803            14                 14               5   \n",
       "3127  0.358811     0.409766            31                 15               7   \n",
       "3128  0.303774     0.422642            22                 25              12   \n",
       "3129  0.515982     0.529680            22                 15               3   \n",
       "\n",
       "      polarity  subjectivity  \n",
       "0     0.103571      0.551190  \n",
       "1     0.092639      0.526343  \n",
       "2     0.037857      0.516468  \n",
       "3     0.213730      0.604619  \n",
       "4     0.240202      0.542525  \n",
       "...        ...           ...  \n",
       "3125  0.199167      0.541206  \n",
       "3126  0.342917      0.601250  \n",
       "3127  0.279898      0.553526  \n",
       "3128  0.184299      0.502429  \n",
       "3129  0.135557      0.504692  \n",
       "\n",
       "[3130 rows x 19 columns]"
      ]
     },
     "execution_count": 149,
     "metadata": {},
     "output_type": "execute_result"
    }
   ],
   "source": [
    "df=pd.read_csv(\"scored_text.csv\")\n",
    "df\n"
   ]
  },
  {
   "attachments": {},
   "cell_type": "markdown",
   "id": "7e93e363",
   "metadata": {},
   "source": [
    "PREPROCESAMIENTO"
   ]
  },
  {
   "cell_type": "code",
   "execution_count": 150,
   "id": "db78c6a9",
   "metadata": {},
   "outputs": [],
   "source": [
    "#Pasar las puntuaciones de 1-5 a 1-10\n",
    "labels=['syntax', 'vocabulary', 'phraseology', 'grammar', 'conventions','cohesion']\n",
    "dic_puntuaciones={0:0, 0.5:1, 1:2, 1.5:3, 2:4, 2.5:5, 3:6, 3.5:7, 4:8, 4.5:9, 5:10}\n",
    "for i in labels: \n",
    "    df[i]=df[i].map(dic_puntuaciones)\n",
    "\n"
   ]
  },
  {
   "cell_type": "code",
   "execution_count": 151,
   "id": "789df9a3",
   "metadata": {},
   "outputs": [],
   "source": [
    "x=np.array(df.drop([\"text_id\",\"full_text\",\"correct_text\"],axis=1))\n",
    "\n",
    "y=pd.DataFrame(df, columns=labels)\n"
   ]
  },
  {
   "attachments": {},
   "cell_type": "markdown",
   "id": "629e98df",
   "metadata": {},
   "source": [
    "NORMALIZACION"
   ]
  },
  {
   "cell_type": "code",
   "execution_count": 152,
   "id": "fc7c12ff",
   "metadata": {},
   "outputs": [],
   "source": [
    "x = x_scaler.fit_transform(x)"
   ]
  },
  {
   "cell_type": "code",
   "execution_count": null,
   "metadata": {},
   "outputs": [],
   "source": []
  },
  {
   "attachments": {},
   "cell_type": "markdown",
   "id": "3b0a91e2",
   "metadata": {},
   "source": [
    "TRAIN, TEST"
   ]
  },
  {
   "cell_type": "code",
   "execution_count": 153,
   "id": "83471c9d",
   "metadata": {},
   "outputs": [],
   "source": [
    "x_train, x_test, y_train, y_test=train_test_split(x, y, test_size=0.2,random_state=42)"
   ]
  },
  {
   "attachments": {},
   "cell_type": "markdown",
   "id": "8da37063",
   "metadata": {},
   "source": [
    "CLASIFICADOR KNN"
   ]
  },
  {
   "cell_type": "code",
   "execution_count": 154,
   "id": "d3f2a8d2",
   "metadata": {},
   "outputs": [],
   "source": [
    "from sklearn.neighbors import KNeighborsClassifier\n"
   ]
  },
  {
   "cell_type": "code",
   "execution_count": 172,
   "id": "7927c0ac",
   "metadata": {},
   "outputs": [
    {
     "name": "stdout",
     "output_type": "stream",
     "text": [
      "syntax\n",
      "_____________________________________________________________________\n",
      "vocabulary\n",
      "_____________________________________________________________________\n",
      "phraseology\n",
      "_____________________________________________________________________\n",
      "grammar\n",
      "_____________________________________________________________________\n",
      "conventions\n",
      "_____________________________________________________________________\n",
      "cohesion\n",
      "_____________________________________________________________________\n"
     ]
    }
   ],
   "source": [
    "model = KNeighborsClassifier(n_neighbors = 3)\n",
    "\n",
    "for i in (labels):\n",
    "    y=np.array(y_train[i])\n",
    "    model.fit(x_train,y)\n",
    "    yhat = model.predict(x_test)\n",
    "    print(i)\n",
    "    # print(\"Jaccard Index:\", jaccard_score(y_test[i], yhat, average = \"macro\"))\n",
    "    # print(\"Accuracy:\"     , accuracy_score(y_test[i], yhat))\n",
    "    # print(\"Precisión:\"    , precision_score(y_test[i], yhat, average = \"macro\"))\n",
    "    # print(\"Sensibilidad:\" , recall_score(y_test[i], yhat, average = \"macro\"))\n",
    "    # print(\"F1-score:\"     , f1_score(y_test[i], yhat, average = \"macro\"))\n",
    "    # #print(classification_report(y_test[i], yhat, digits = 10))\n",
    "    print('_____________________________________________________________________')"
   ]
  },
  {
   "attachments": {},
   "cell_type": "markdown",
   "id": "556745b2",
   "metadata": {},
   "source": [
    "NEAREST CENTROID"
   ]
  },
  {
   "cell_type": "code",
   "execution_count": 155,
   "id": "39300831",
   "metadata": {},
   "outputs": [],
   "source": [
    "from sklearn.neighbors import NearestCentroid"
   ]
  },
  {
   "cell_type": "code",
   "execution_count": 173,
   "id": "dea79c76",
   "metadata": {},
   "outputs": [],
   "source": [
    "model = NearestCentroid(metric = \"euclidean\")\n",
    "for i in (labels):\n",
    "    y=np.array(y_train[i])\n",
    "    model.fit(x_train,y)\n",
    "    yhat = model.predict(x_test)\n",
    "    # print(i)\n",
    "    # print(\"Jaccard Index:\", jaccard_score(y_test[i], yhat, average = \"macro\"))\n",
    "    # print(\"Accuracy:\"     , accuracy_score(y_test[i], yhat))\n",
    "    # print(\"Precisión:\"    , precision_score(y_test[i], yhat, average = \"macro\"))\n",
    "    # print(\"Sensibilidad:\" , recall_score(y_test[i], yhat, average = \"macro\"))\n",
    "    # print(\"F1-score:\"     , f1_score(y_test[i], yhat, average = \"macro\"))\n",
    "    # print(classification_report(y_test[i], yhat, digits = 10))\n",
    "    # print('_____________________________________________________________________')\n",
    "    \n",
    "\n",
    "   "
   ]
  },
  {
   "attachments": {},
   "cell_type": "markdown",
   "id": "da1c6eb3",
   "metadata": {},
   "source": [
    "NAIVE_BAYES"
   ]
  },
  {
   "cell_type": "code",
   "execution_count": 175,
   "id": "ca5d2c20",
   "metadata": {},
   "outputs": [],
   "source": [
    "from sklearn.naive_bayes import GaussianNB"
   ]
  },
  {
   "cell_type": "code",
   "execution_count": 178,
   "id": "9927609b",
   "metadata": {},
   "outputs": [],
   "source": [
    "model = GaussianNB()\n",
    "for i in (labels):\n",
    "    y=np.array(y_train[i])\n",
    "    model.fit(x_train,y)\n",
    "    yhat = model.predict(x_test)\n",
    "    # print(i)\n",
    "    # print(\"Jaccard Index:\", jaccard_score(y_test[i], yhat, average = \"macro\"))\n",
    "    # print(\"Accuracy:\"     , accuracy_score(y_test[i], yhat))\n",
    "    # print(\"Precisión:\"    , precision_score(y_test[i], yhat, average = \"macro\"))\n",
    "    # print(\"Sensibilidad:\" , recall_score(y_test[i], yhat, average = \"macro\"))\n",
    "    # print(\"F1-score:\"     , f1_score(y_test[i], yhat, average = \"macro\"))\n",
    "    # #print(classification_report(y_test[i], yhat, digits = 10))\n",
    "    # print('_____________________________________________________________________')"
   ]
  },
  {
   "attachments": {},
   "cell_type": "markdown",
   "id": "cd0dbe2f",
   "metadata": {},
   "source": [
    "LOGISTIC REGRESSION"
   ]
  },
  {
   "cell_type": "code",
   "execution_count": 180,
   "id": "4a20e0b7",
   "metadata": {},
   "outputs": [],
   "source": [
    "from sklearn.linear_model import LogisticRegression"
   ]
  },
  {
   "cell_type": "code",
   "execution_count": 186,
   "id": "76d73c08",
   "metadata": {},
   "outputs": [],
   "source": [
    "model = LogisticRegression(max_iter=1000)\n",
    "for i in (labels):\n",
    "    y=np.array(y_train[i])\n",
    "    model.fit(x_train,y,)\n",
    "    yhat = model.predict(x_test)\n",
    "    # print(i)\n",
    "    # print(\"Jaccard Index:\", jaccard_score(y_test[i], yhat, average = \"macro\"))\n",
    "    # print(\"Accuracy:\"     , accuracy_score(y_test[i], yhat))\n",
    "    # print(\"Precisión:\"    , precision_score(y_test[i], yhat, average = \"macro\"))\n",
    "    # print(\"Sensibilidad:\" , recall_score(y_test[i], yhat, average = \"macro\"))\n",
    "    # print(\"F1-score:\"     , f1_score(y_test[i], yhat, average = \"macro\"))\n",
    "    # #print(classification_report(y_test[i], yhat, digits = 10))\n",
    "    # print('_____________________________________________________________________')"
   ]
  },
  {
   "attachments": {},
   "cell_type": "markdown",
   "id": "bc1052b4",
   "metadata": {},
   "source": [
    "DECISION TREE"
   ]
  },
  {
   "cell_type": "code",
   "execution_count": 182,
   "id": "85b510ab",
   "metadata": {},
   "outputs": [],
   "source": [
    "from sklearn.tree import DecisionTreeClassifier"
   ]
  },
  {
   "cell_type": "code",
   "execution_count": 188,
   "id": "3b77b08a",
   "metadata": {},
   "outputs": [],
   "source": [
    "model = DecisionTreeClassifier()\n",
    "for i in (labels):\n",
    "    y=np.array(y_train[i])\n",
    "    model.fit(x_train,y)\n",
    "    yhat = model.predict(x_test)\n",
    "    # print(i)\n",
    "    # print(\"Jaccard Index:\", jaccard_score(y_test[i], yhat, average = \"macro\"))\n",
    "    # print(\"Accuracy:\"     , accuracy_score(y_test[i], yhat))\n",
    "    # print(\"Precisión:\"    , precision_score(y_test[i], yhat, average = \"macro\"))\n",
    "    # print(\"Sensibilidad:\" , recall_score(y_test[i], yhat, average = \"macro\"))\n",
    "    # print(\"F1-score:\"     , f1_score(y_test[i], yhat, average = \"macro\"))\n",
    "    # #print(classification_report(y_test[i], yhat, digits = 10))\n",
    "    # print('_____________________________________________________________________')"
   ]
  },
  {
   "attachments": {},
   "cell_type": "markdown",
   "id": "f57fc22e",
   "metadata": {},
   "source": [
    "RANDOM FOREST"
   ]
  },
  {
   "cell_type": "code",
   "execution_count": 189,
   "id": "2eda4e6a",
   "metadata": {},
   "outputs": [],
   "source": [
    "from sklearn.ensemble import RandomForestClassifier"
   ]
  },
  {
   "cell_type": "code",
   "execution_count": 199,
   "id": "5bb90728",
   "metadata": {},
   "outputs": [],
   "source": [
    "model = RandomForestClassifier()\n",
    "for i in (labels):\n",
    "    y=np.array(y_train[i])  \n",
    "    model.fit(x_train,y)\n",
    "    yhat = model.predict(x_test)\n",
    "    # print(i)\n",
    "    # print(\"Jaccard Index:\", jaccard_score(y_test[i], yhat, average = \"macro\"))\n",
    "    # print(\"Accuracy:\"     , accuracy_score(y_test[i], yhat))\n",
    "    # print(\"Precisión:\"    , precision_score(y_test[i], yhat, average = \"macro\"))\n",
    "    # print(\"Sensibilidad:\" , recall_score(y_test[i], yhat, average = \"macro\"))\n",
    "    # print(\"F1-score:\"     , f1_score(y_test[i], yhat, average = \"macro\"))\n",
    "    # #print(classification_report(y_test[i], yhat, digits = 10))\n",
    "    # print('_____________________________________________________________________')"
   ]
  },
  {
   "attachments": {},
   "cell_type": "markdown",
   "id": "68d8f59c",
   "metadata": {},
   "source": [
    "SUPPORT VECTOR MACHINE(SVM)"
   ]
  },
  {
   "cell_type": "code",
   "execution_count": 200,
   "id": "71be6915",
   "metadata": {},
   "outputs": [],
   "source": [
    "from sklearn.svm import SVC"
   ]
  },
  {
   "cell_type": "code",
   "execution_count": 202,
   "id": "a750a205",
   "metadata": {},
   "outputs": [],
   "source": [
    "model = SVC(probability = True)\n",
    "for i in (labels):\n",
    "    y=np.array(y_train[i])\n",
    "    model.fit(x_train,y)\n",
    "    yhat = model.predict(x_test)\n",
    "    # print(i)\n",
    "    # print(\"Jaccard Index:\", jaccard_score(y_test[i], yhat, average = \"macro\"))\n",
    "    # print(\"Accuracy:\"     , accuracy_score(y_test[i], yhat))\n",
    "    # print(\"Precisión:\"    , precision_score(y_test[i], yhat, average = \"macro\"))\n",
    "    # print(\"Sensibilidad:\" , recall_score(y_test[i], yhat, average = \"macro\"))\n",
    "    # print(\"F1-score:\"     , f1_score(y_test[i], yhat, average = \"macro\"))\n",
    "    # #print(classification_report(y_test[i], yhat, digits = 10))\n",
    "    # print('_____________________________________________________________________')"
   ]
  },
  {
   "attachments": {},
   "cell_type": "markdown",
   "id": "668c4c16",
   "metadata": {},
   "source": [
    "ADABOOST"
   ]
  },
  {
   "cell_type": "code",
   "execution_count": 203,
   "id": "5cc4865f",
   "metadata": {},
   "outputs": [],
   "source": [
    "from sklearn.ensemble import AdaBoostClassifier\n",
    "from sklearn.linear_model import LogisticRegression"
   ]
  },
  {
   "cell_type": "code",
   "execution_count": 205,
   "id": "3b175c5f",
   "metadata": {},
   "outputs": [],
   "source": [
    "model = AdaBoostClassifier(n_estimators = 50)\n",
    "for i in (labels):\n",
    "    y=np.array(y_train[i])\n",
    "    model.fit(x_train,y)\n",
    "    yhat = model.predict(x_test)\n",
    "    # print(i)\n",
    "    # print(\"Jaccard Index:\", jaccard_score(y_test[i], yhat, average = \"macro\"))\n",
    "    # print(\"Accuracy:\"     , accuracy_score(y_test[i], yhat))\n",
    "    # print(\"Precisión:\"    , precision_score(y_test[i], yhat, average = \"macro\"))\n",
    "    # print(\"Sensibilidad:\" , recall_score(y_test[i], yhat, average = \"macro\"))\n",
    "    # print(\"F1-score:\"     , f1_score(y_test[i], yhat, average = \"macro\"))\n",
    "    # #print(classification_report(y_test[i], yhat, digits = 10))\n",
    "    # print('_____________________________________________________________________')"
   ]
  },
  {
   "attachments": {},
   "cell_type": "markdown",
   "id": "18e551d7",
   "metadata": {},
   "source": [
    "GRADIENT BOOST"
   ]
  },
  {
   "cell_type": "code",
   "execution_count": 206,
   "id": "6d9582f6",
   "metadata": {},
   "outputs": [],
   "source": [
    "from sklearn.ensemble import GradientBoostingClassifier"
   ]
  },
  {
   "cell_type": "code",
   "execution_count": 208,
   "id": "6d5ead96",
   "metadata": {},
   "outputs": [],
   "source": [
    "model = GradientBoostingClassifier()\n",
    "for i in (labels):\n",
    "    y=np.array(y_train[i])\n",
    "    model.fit(x_train,y)\n",
    "    yhat = model.predict(x_test)\n",
    "    # print(i)\n",
    "    # print(\"Jaccard Index:\", jaccard_score(y_test[i], yhat, average = \"macro\"))\n",
    "    # print(\"Accuracy:\"     , accuracy_score(y_test[i], yhat))\n",
    "    # print(\"Precisión:\"    , precision_score(y_test[i], yhat, average = \"macro\"))\n",
    "    # print(\"Sensibilidad:\" , recall_score(y_test[i], yhat, average = \"macro\"))\n",
    "    # print(\"F1-score:\"     , f1_score(y_test[i], yhat, average = \"macro\"))\n",
    "    # #print(classification_report(y_test[i], yhat, digits = 10))\n",
    "    # print('_____________________________________________________________________')"
   ]
  },
  {
   "attachments": {},
   "cell_type": "markdown",
   "id": "eeb82156",
   "metadata": {},
   "source": [
    "VOTING"
   ]
  },
  {
   "cell_type": "code",
   "execution_count": null,
   "id": "8c59899c",
   "metadata": {},
   "outputs": [],
   "source": []
  },
  {
   "cell_type": "code",
   "execution_count": 209,
   "id": "1a85a7d7",
   "metadata": {},
   "outputs": [
    {
     "name": "stderr",
     "output_type": "stream",
     "text": [
      "c:\\Users\\laruj\\anaconda3\\lib\\site-packages\\sklearn\\linear_model\\_logistic.py:814: ConvergenceWarning: lbfgs failed to converge (status=1):\n",
      "STOP: TOTAL NO. of ITERATIONS REACHED LIMIT.\n",
      "\n",
      "Increase the number of iterations (max_iter) or scale the data as shown in:\n",
      "    https://scikit-learn.org/stable/modules/preprocessing.html\n",
      "Please also refer to the documentation for alternative solver options:\n",
      "    https://scikit-learn.org/stable/modules/linear_model.html#logistic-regression\n",
      "  n_iter_i = _check_optimize_result(\n",
      "c:\\Users\\laruj\\anaconda3\\lib\\site-packages\\sklearn\\metrics\\_classification.py:1318: UndefinedMetricWarning: Precision is ill-defined and being set to 0.0 in labels with no predicted samples. Use `zero_division` parameter to control this behavior.\n",
      "  _warn_prf(average, modifier, msg_start, len(result))\n"
     ]
    },
    {
     "name": "stdout",
     "output_type": "stream",
     "text": [
      "syntax\n",
      "Jaccard Index: 0.3390948399149602\n",
      "Accuracy: 0.7763578274760383\n",
      "Precisión: 0.47507134766154935\n",
      "Sensibilidad: 0.41918326206962436\n",
      "F1-score: 0.42731645065547486\n",
      "_____________________________________________________________________\n"
     ]
    },
    {
     "name": "stderr",
     "output_type": "stream",
     "text": [
      "c:\\Users\\laruj\\anaconda3\\lib\\site-packages\\sklearn\\linear_model\\_logistic.py:814: ConvergenceWarning: lbfgs failed to converge (status=1):\n",
      "STOP: TOTAL NO. of ITERATIONS REACHED LIMIT.\n",
      "\n",
      "Increase the number of iterations (max_iter) or scale the data as shown in:\n",
      "    https://scikit-learn.org/stable/modules/preprocessing.html\n",
      "Please also refer to the documentation for alternative solver options:\n",
      "    https://scikit-learn.org/stable/modules/linear_model.html#logistic-regression\n",
      "  n_iter_i = _check_optimize_result(\n",
      "c:\\Users\\laruj\\anaconda3\\lib\\site-packages\\sklearn\\metrics\\_classification.py:1318: UndefinedMetricWarning: Precision is ill-defined and being set to 0.0 in labels with no predicted samples. Use `zero_division` parameter to control this behavior.\n",
      "  _warn_prf(average, modifier, msg_start, len(result))\n"
     ]
    },
    {
     "name": "stdout",
     "output_type": "stream",
     "text": [
      "vocabulary\n",
      "Jaccard Index: 0.2571174210608266\n",
      "Accuracy: 0.7348242811501597\n",
      "Precisión: 0.31974273982729046\n",
      "Sensibilidad: 0.32271556930506917\n",
      "F1-score: 0.31682317081077715\n",
      "_____________________________________________________________________\n"
     ]
    },
    {
     "name": "stderr",
     "output_type": "stream",
     "text": [
      "c:\\Users\\laruj\\anaconda3\\lib\\site-packages\\sklearn\\linear_model\\_logistic.py:814: ConvergenceWarning: lbfgs failed to converge (status=1):\n",
      "STOP: TOTAL NO. of ITERATIONS REACHED LIMIT.\n",
      "\n",
      "Increase the number of iterations (max_iter) or scale the data as shown in:\n",
      "    https://scikit-learn.org/stable/modules/preprocessing.html\n",
      "Please also refer to the documentation for alternative solver options:\n",
      "    https://scikit-learn.org/stable/modules/linear_model.html#logistic-regression\n",
      "  n_iter_i = _check_optimize_result(\n",
      "c:\\Users\\laruj\\anaconda3\\lib\\site-packages\\sklearn\\metrics\\_classification.py:1318: UndefinedMetricWarning: Precision is ill-defined and being set to 0.0 in labels with no predicted samples. Use `zero_division` parameter to control this behavior.\n",
      "  _warn_prf(average, modifier, msg_start, len(result))\n"
     ]
    },
    {
     "name": "stdout",
     "output_type": "stream",
     "text": [
      "phraseology\n",
      "Jaccard Index: 0.39175443577371344\n",
      "Accuracy: 0.8178913738019169\n",
      "Precisión: 0.5176096673880998\n",
      "Sensibilidad: 0.4626404383256818\n",
      "F1-score: 0.4761233118358409\n",
      "_____________________________________________________________________\n"
     ]
    },
    {
     "name": "stderr",
     "output_type": "stream",
     "text": [
      "c:\\Users\\laruj\\anaconda3\\lib\\site-packages\\sklearn\\linear_model\\_logistic.py:814: ConvergenceWarning: lbfgs failed to converge (status=1):\n",
      "STOP: TOTAL NO. of ITERATIONS REACHED LIMIT.\n",
      "\n",
      "Increase the number of iterations (max_iter) or scale the data as shown in:\n",
      "    https://scikit-learn.org/stable/modules/preprocessing.html\n",
      "Please also refer to the documentation for alternative solver options:\n",
      "    https://scikit-learn.org/stable/modules/linear_model.html#logistic-regression\n",
      "  n_iter_i = _check_optimize_result(\n",
      "c:\\Users\\laruj\\anaconda3\\lib\\site-packages\\sklearn\\metrics\\_classification.py:1318: UndefinedMetricWarning: Precision is ill-defined and being set to 0.0 in labels with no predicted samples. Use `zero_division` parameter to control this behavior.\n",
      "  _warn_prf(average, modifier, msg_start, len(result))\n"
     ]
    },
    {
     "name": "stdout",
     "output_type": "stream",
     "text": [
      "grammar\n",
      "Jaccard Index: 0.4190328160618608\n",
      "Accuracy: 0.8194888178913738\n",
      "Precisión: 0.5081156108407782\n",
      "Sensibilidad: 0.4916522481986849\n",
      "F1-score: 0.4940404238951219\n",
      "_____________________________________________________________________\n"
     ]
    },
    {
     "name": "stderr",
     "output_type": "stream",
     "text": [
      "c:\\Users\\laruj\\anaconda3\\lib\\site-packages\\sklearn\\linear_model\\_logistic.py:814: ConvergenceWarning: lbfgs failed to converge (status=1):\n",
      "STOP: TOTAL NO. of ITERATIONS REACHED LIMIT.\n",
      "\n",
      "Increase the number of iterations (max_iter) or scale the data as shown in:\n",
      "    https://scikit-learn.org/stable/modules/preprocessing.html\n",
      "Please also refer to the documentation for alternative solver options:\n",
      "    https://scikit-learn.org/stable/modules/linear_model.html#logistic-regression\n",
      "  n_iter_i = _check_optimize_result(\n",
      "c:\\Users\\laruj\\anaconda3\\lib\\site-packages\\sklearn\\metrics\\_classification.py:1318: UndefinedMetricWarning: Precision is ill-defined and being set to 0.0 in labels with no predicted samples. Use `zero_division` parameter to control this behavior.\n",
      "  _warn_prf(average, modifier, msg_start, len(result))\n"
     ]
    },
    {
     "name": "stdout",
     "output_type": "stream",
     "text": [
      "conventions\n",
      "Jaccard Index: 0.3378748867666521\n",
      "Accuracy: 0.7603833865814696\n",
      "Precisión: 0.46225961811676086\n",
      "Sensibilidad: 0.4197694187033535\n",
      "F1-score: 0.42329518241992553\n",
      "_____________________________________________________________________\n",
      "cohesion\n",
      "Jaccard Index: 0.34995381291686756\n",
      "Accuracy: 0.8019169329073482\n",
      "Precisión: 0.4775850051273742\n",
      "Sensibilidad: 0.4217010764495615\n",
      "F1-score: 0.4272799620962047\n",
      "_____________________________________________________________________\n"
     ]
    },
    {
     "name": "stderr",
     "output_type": "stream",
     "text": [
      "c:\\Users\\laruj\\anaconda3\\lib\\site-packages\\sklearn\\linear_model\\_logistic.py:814: ConvergenceWarning: lbfgs failed to converge (status=1):\n",
      "STOP: TOTAL NO. of ITERATIONS REACHED LIMIT.\n",
      "\n",
      "Increase the number of iterations (max_iter) or scale the data as shown in:\n",
      "    https://scikit-learn.org/stable/modules/preprocessing.html\n",
      "Please also refer to the documentation for alternative solver options:\n",
      "    https://scikit-learn.org/stable/modules/linear_model.html#logistic-regression\n",
      "  n_iter_i = _check_optimize_result(\n",
      "c:\\Users\\laruj\\anaconda3\\lib\\site-packages\\sklearn\\metrics\\_classification.py:1318: UndefinedMetricWarning: Precision is ill-defined and being set to 0.0 in labels with no predicted samples. Use `zero_division` parameter to control this behavior.\n",
      "  _warn_prf(average, modifier, msg_start, len(result))\n"
     ]
    }
   ],
   "source": [
    "model = LogisticRegression()\n",
    "for i in (labels):\n",
    "    y=np.array(y_train[i])\n",
    "    model.fit(x_train,y)\n",
    "    yhat = model.predict(x_test)\n",
    "    print(i)\n",
    "    print(\"Jaccard Index:\", jaccard_score(y_test[i], yhat, average = \"macro\"))\n",
    "    print(\"Accuracy:\"     , accuracy_score(y_test[i], yhat))\n",
    "    print(\"Precisión:\"    , precision_score(y_test[i], yhat, average = \"macro\"))\n",
    "    print(\"Sensibilidad:\" , recall_score(y_test[i], yhat, average = \"macro\"))\n",
    "    print(\"F1-score:\"     , f1_score(y_test[i], yhat, average = \"macro\"))\n",
    "    #print(classification_report(y_test[i], yhat, digits = 10))\n",
    "    print('_____________________________________________________________________')"
   ]
  }
 ],
 "metadata": {
  "kernelspec": {
   "display_name": "base",
   "language": "python",
   "name": "python3"
  },
  "language_info": {
   "codemirror_mode": {
    "name": "ipython",
    "version": 3
   },
   "file_extension": ".py",
   "mimetype": "text/x-python",
   "name": "python",
   "nbconvert_exporter": "python",
   "pygments_lexer": "ipython3",
   "version": "3.9.12"
  },
  "vscode": {
   "interpreter": {
    "hash": "a6072997e9cd0c07d91b6188483fe80fc5b3615c1a8516f7a83d3ebfa0bc371f"
   }
  }
 },
 "nbformat": 4,
 "nbformat_minor": 5
}
